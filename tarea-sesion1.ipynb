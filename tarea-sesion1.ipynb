{
 "cells": [
  {
   "cell_type": "code",
   "execution_count": null,
   "metadata": {},
   "outputs": [],
   "source": [
    "# Intalamos las dependencias necesarias\n",
    "import pandas as pd\n",
    "import matplotlib as plt\n",
    "from matplotlib.animation import FuncAnimation"
   ]
  },
  {
   "cell_type": "code",
   "execution_count": null,
   "metadata": {},
   "outputs": [],
   "source": [
    "# Cargamos el dataset\n",
    "data = pd.read_csv(\"./Catalog_v2.csv\")"
   ]
  },
  {
   "cell_type": "code",
   "execution_count": null,
   "metadata": {},
   "outputs": [
    {
     "name": "stdout",
     "output_type": "stream",
     "text": [
      "  levelType                  code catalogType                  name  \\\n",
      "0  CATEGORY       Street Lighting     PRODUCT       Street Lighting   \n",
      "1  CATEGORY   Pedestrian Lighting     PRODUCT   Pedestrian Lighting   \n",
      "2  CATEGORY  Traffic Signal Poles     PRODUCT  Traffic Signal Poles   \n",
      "3  CATEGORY              Controls     PRODUCT              Controls   \n",
      "4  CATEGORY            Downlights     PRODUCT            Downlights   \n",
      "\n",
      "                              description  \\\n",
      "0       Category code for Street Lighting   \n",
      "1   Category code for Pedestrian Lighting   \n",
      "2  Category code for Traffic Signal Poles   \n",
      "3              Category code for Controls   \n",
      "4            Category code for Downlights   \n",
      "\n",
      "                                  sourceLink  \n",
      "0       http://lighttree.com/Street Lighting  \n",
      "1   http://lighttree.com/Pedestrian Lighting  \n",
      "2  http://lighttree.com/Traffic Signal Poles  \n",
      "3              http://lighttree.com/Controls  \n",
      "4            http://lighttree.com/Downlights  \n"
     ]
    }
   ],
   "source": [
    "# Mostramos las primeras 5 filas del dataset\n",
    "print(data.head())"
   ]
  },
  {
   "cell_type": "code",
   "execution_count": null,
   "metadata": {},
   "outputs": [],
   "source": []
  }
 ],
 "metadata": {
  "kernelspec": {
   "display_name": "upeu",
   "language": "python",
   "name": "python3"
  },
  "language_info": {
   "codemirror_mode": {
    "name": "ipython",
    "version": 3
   },
   "file_extension": ".py",
   "mimetype": "text/x-python",
   "name": "python",
   "nbconvert_exporter": "python",
   "pygments_lexer": "ipython3",
   "version": "3.10.14"
  }
 },
 "nbformat": 4,
 "nbformat_minor": 2
}
